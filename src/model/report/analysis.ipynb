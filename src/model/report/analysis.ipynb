{
 "cells": [
  {
   "cell_type": "code",
   "execution_count": 1,
   "metadata": {},
   "outputs": [],
   "source": [
    "from utils import compute_metrics\n",
    "import pandas as pd\n",
    "import numpy as np\n",
    "import json"
   ]
  },
  {
   "cell_type": "code",
   "execution_count": 2,
   "metadata": {},
   "outputs": [],
   "source": [
    "REPORT_TIMESTAMP = '2024-08-09-11-06-27'\n",
    "report_filepath = './reports_data/run_' + REPORT_TIMESTAMP + '.json'\n",
    "# min_max_filepath = '../data/min_max_values.json'\n",
    "# metrics_dict, variables = compute_metrics(report_filepath, min_max_filepath)"
   ]
  },
  {
   "cell_type": "code",
   "execution_count": 4,
   "metadata": {},
   "outputs": [
    {
     "name": "stdout",
     "output_type": "stream",
     "text": [
      "Metric 'total km' for epoch 2 not found.\n"
     ]
    }
   ],
   "source": [
    "epoch = 2\n",
    "metric_name = 'total km'\n",
    "\n",
    "# Check if the epoch and metric exist in the dictionary\n",
    "if epoch in metrics_dict and metric_name in metrics_dict[epoch]:\n",
    "    total_km_metric = metrics_dict[epoch][metric_name]\n",
    "    \n",
    "    # Extract all action values and flatten them into a list\n",
    "    all_actions_flat = [value for action in total_km_metric.values() for value in action]\n",
    "    \n",
    "    print(\"All action values for 'total km' at epoch 10:\", all_actions_flat)\n",
    "else:\n",
    "    print(f\"Metric '{metric_name}' for epoch {epoch} not found.\")"
   ]
  },
  {
   "cell_type": "code",
   "execution_count": 3,
   "metadata": {},
   "outputs": [],
   "source": [
    "with open(report_filepath, 'r') as json_file:\n",
    "        report = json.load(json_file)"
   ]
  },
  {
   "cell_type": "code",
   "execution_count": 4,
   "metadata": {},
   "outputs": [
    {
     "name": "stdout",
     "output_type": "stream",
     "text": [
      "[[1.5, 0.34730973839759827, 0.0, 0.04308971017599106, 0.0, 0.493814080953598, 0.025183413177728653], [1.5, 0.34807759523391724, 0.102068230509758, 0.04383302479982376, 0.02239982970058918, 0.45386192202568054, 0.029878541827201843], [0.5, 0.3474442660808563, 0.06288879364728928, 0.055349964648485184, 0.0, 0.0, 0.0], [1.0, 0.34828171133995056, 0.10233426839113235, 0.0, 0.023071667179465294, 0.0, 0.04593147709965706], [0.5, 0.3485407531261444, 0.0760076493024826, 0.0, 0.02339743636548519, 0.0, 0.0], [1.0, 0.34853923320770264, 0.10012832283973694, 0.053081270307302475, 0.0014096732484176755, 0.43348827958106995, 0.0], [1.0, 0.34754762053489685, 0.05509541928768158, 0.0426795519888401, 0.0, 0.4480803608894348, 0.0]]\n"
     ]
    }
   ],
   "source": [
    "print(report['epoch_10']['actions']['1'])"
   ]
  },
  {
   "cell_type": "code",
   "execution_count": null,
   "metadata": {},
   "outputs": [],
   "source": [
    "for key in report['epoch_10']['actions']:\n",
    "    result = []\n",
    "    for array in report['epoch_10']['actions'][key]: \n",
    "        result.append(array[1])\n",
    "    print(\"Datapoint \", key, \" km values:\", result)\n"
   ]
  }
 ],
 "metadata": {
  "kernelspec": {
   "display_name": "coaching_optimiser_venv",
   "language": "python",
   "name": "python3"
  },
  "language_info": {
   "codemirror_mode": {
    "name": "ipython",
    "version": 3
   },
   "file_extension": ".py",
   "mimetype": "text/x-python",
   "name": "python",
   "nbconvert_exporter": "python",
   "pygments_lexer": "ipython3",
   "version": "3.11.9"
  }
 },
 "nbformat": 4,
 "nbformat_minor": 2
}
